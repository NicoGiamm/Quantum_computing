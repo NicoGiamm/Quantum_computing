{
 "cells": [
  {
   "cell_type": "markdown",
   "id": "7f5afc8a-4685-4441-aed0-84727c98f203",
   "metadata": {
    "tags": []
   },
   "source": [
    "<h1>QUANTUM TELEPORTATION </h1>\n",
    "In this notebook will be executed the quantum teleportation algorithm both in cirq and qiskit.\n",
    "<br>\n",
    "The only assumption we made is that the state sent is $$ |\\psi \\rangle = \\frac{(|0 \\rangle + |1 \\rangle)}{\\sqrt{2}} $$\n",
    "The circuit is made as in the image:"
   ]
  },
  {
   "cell_type": "markdown",
   "id": "4d6f6807-8eff-4efa-9f6b-af4457388a03",
   "metadata": {
    "tags": []
   },
   "source": [
    "![alt text](qteleportation.jpeg \"Title\")"
   ]
  },
  {
   "cell_type": "code",
   "execution_count": 1,
   "id": "29b36a92-1407-4ad3-bdd4-4c80d9b6017f",
   "metadata": {},
   "outputs": [],
   "source": [
    "import cirq\n",
    "import numpy as np\n",
    "from qiskit import QuantumCircuit, execute, Aer\n",
    "import seaborn as sns\n",
    "import matplotlib.pyplot as plt\n",
    "plt.rcParams['figure.figsize'] = (15,10)"
   ]
  },
  {
   "cell_type": "markdown",
   "id": "3aad4133-26c5-479a-a25f-f9a41cfd7b13",
   "metadata": {},
   "source": [
    "<h2>CIRQ SCRIPT</h2>"
   ]
  },
  {
   "cell_type": "code",
   "execution_count": 2,
   "id": "0e4ebbf4-d360-49b1-b613-c6f57eaecc9d",
   "metadata": {},
   "outputs": [
    {
     "data": {
      "text/html": [
       "<pre style=\"overflow: auto; white-space: pre;\">0: ───H───────@───H───M───────@────────────\n",
       "              │       │       │\n",
       "1: ───H───@───X───────M───@───┼────────────\n",
       "          │               │   │\n",
       "2: ───────X───────────────X───@───M(&#x27;Z&#x27;)───</pre>"
      ],
      "text/plain": [
       "0: ───H───────@───H───M───────@────────────\n",
       "              │       │       │\n",
       "1: ───H───@───X───────M───@───┼────────────\n",
       "          │               │   │\n",
       "2: ───────X───────────────X───@───M('Z')───"
      ]
     },
     "execution_count": 2,
     "metadata": {},
     "output_type": "execute_result"
    }
   ],
   "source": [
    "q0, q1, q2 = [cirq.LineQubit(i) for i in range(3)]\n",
    "circuit = cirq.Circuit()\n",
    "\n",
    "#entagling the 2 quibits in different laboratories\n",
    "#and preparing the qubit to send\n",
    "circuit.append(cirq.H(q0))\n",
    "circuit.append(cirq.H(q1))\n",
    "circuit.append(cirq.CNOT(q1, q2))\n",
    "\n",
    "#entangling the qubit we want to send to the one in the first laboratory\n",
    "circuit.append(cirq.CNOT(q0, q1))\n",
    "circuit.append(cirq.H(q0))\n",
    "\n",
    "#measurements\n",
    "circuit.append(cirq.measure(q0, q1))\n",
    "\n",
    "#last transformations to obtain the qubit information\n",
    "circuit.append(cirq.CNOT(q1, q2))\n",
    "circuit.append(cirq.CZ(q0, q2))\n",
    "\n",
    "#measure of the qubit in the receiving laboratory along z axis\n",
    "circuit.append(cirq.measure(q2, key = 'Z'))\n",
    "circuit"
   ]
  },
  {
   "cell_type": "code",
   "execution_count": 3,
   "id": "4c2a4611-f363-42da-be85-a5adfb25f2f1",
   "metadata": {},
   "outputs": [
    {
     "data": {
      "text/plain": [
       "(44, 56)"
      ]
     },
     "execution_count": 3,
     "metadata": {},
     "output_type": "execute_result"
    },
    {
     "data": {
      "image/png": "[encoded data removed]",
      "text/plain": [
       "<Figure size 1080x720 with 1 Axes>"
      ]
     },
     "metadata": {
      "needs_background": "light"
     },
     "output_type": "display_data"
    }
   ],
   "source": [
    "#starting simulation\n",
    "sim = cirq.Simulator()\n",
    "results = sim.run(circuit, repetitions=100)\n",
    "sns.histplot(results.measurements['Z'], discrete = True)\n",
    "100 - np.count_nonzero(results.measurements['Z']), np.count_nonzero(results.measurements['Z'])"
   ]
  },
  {
   "cell_type": "markdown",
   "id": "4ae236c7-7008-41cd-8588-7b60cfe6de6d",
   "metadata": {},
   "source": [
    "<h2>QISKIT SCRIPT"
   ]
  },
  {
   "cell_type": "code",
   "execution_count": 4,
   "id": "27685f35-1fe7-4361-b99c-cda59c066cde",
   "metadata": {},
   "outputs": [
    {
     "name": "stdout",
     "output_type": "stream",
     "text": [
      "     ┌───┐          ┌───┐┌─┐              \n",
      "q_0: ┤ H ├───────■──┤ H ├┤M├─────────■────\n",
      "     ├───┤     ┌─┴─┐└───┘└╥┘┌─┐      │    \n",
      "q_1: ┤ H ├──■──┤ X ├──────╫─┤M├──■───┼────\n",
      "     └───┘┌─┴─┐└───┘      ║ └╥┘┌─┴─┐ │ ┌─┐\n",
      "q_2: ─────┤ X ├───────────╫──╫─┤ X ├─■─┤M├\n",
      "          └───┘           ║  ║ └───┘   └╥┘\n",
      "c: 1/═════════════════════╩══╩══════════╩═\n",
      "                          0  0          0 \n"
     ]
    }
   ],
   "source": [
    "#in qiskit the qubits are integrated in the circuit\n",
    "qc = QuantumCircuit(3, 1)\n",
    "\n",
    "#entangling \n",
    "qc.h(0)\n",
    "qc.h(1)\n",
    "qc.cx(1, 2)\n",
    "qc.cx(0, 1)\n",
    "\n",
    "#setting for measurment\n",
    "qc.h(0)\n",
    "qc.measure([0,1], [0,0])\n",
    "\n",
    "#transformation to obtain qubit sent\n",
    "qc.cx(1, 2)\n",
    "qc.cz(0, 2)\n",
    "qc.measure(2, 0)\n",
    "print(qc)"
   ]
  },
  {
   "cell_type": "code",
   "execution_count": 5,
   "id": "f75c8bfa-c265-4883-a6ab-752b18da959b",
   "metadata": {},
   "outputs": [
    {
     "data": {
      "text/plain": [
       "{'1': 50, '0': 50}"
      ]
     },
     "execution_count": 5,
     "metadata": {},
     "output_type": "execute_result"
    },
    {
     "data": {
      "image/png": "[encoded data removed]",
      "text/plain": [
       "<Figure size 1080x720 with 1 Axes>"
      ]
     },
     "metadata": {
      "needs_background": "light"
     },
     "output_type": "display_data"
    }
   ],
   "source": [
    "#simulation\n",
    "simulator = Aer.get_backend('qasm_simulator')\n",
    "job = execute(qc, simulator, shots=100)\n",
    "res = job.result().get_counts(qc)\n",
    "plt.bar(res.keys(), res.values())\n",
    "res"
   ]
  }
 ],
 "metadata": {
  "kernelspec": {
   "display_name": "Python 3 (ipykernel)",
   "language": "python",
   "name": "python3"
  },
  "language_info": {
   "codemirror_mode": {
    "name": "ipython",
    "version": 3
   },
   "file_extension": ".py",
   "mimetype": "text/x-python",
   "name": "python",
   "nbconvert_exporter": "python",
   "pygments_lexer": "ipython3",
   "version": "3.9.12"
  }
 },
 "nbformat": 4,
 "nbformat_minor": 5
}
