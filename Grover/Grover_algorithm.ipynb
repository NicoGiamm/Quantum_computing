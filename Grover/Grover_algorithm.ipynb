{
 "cells": [
  {
   "cell_type": "markdown",
   "id": "6e37ac49-e407-4094-9ed7-f3c090f5a7e4",
   "metadata": {},
   "source": [
    "<h1> Groover's Algorithm </h1>\n",
    "<br>\n",
    "We want to search over a database o 4 elements and we will consider as the hidden element the state vector $|01\\rangle$\n",
    "<br>\n",
    "The algorithm's circuit is as it follows:"
   ]
  },
  {
   "cell_type": "markdown",
   "id": "77c3d18f-b61e-4dd0-9cc0-fab301d664bd",
   "metadata": {},
   "source": [
    "![alt text](Grover.png \"Title\")"
   ]
  },
  {
   "cell_type": "markdown",
   "id": "3bd188fa-9958-4309-90b0-55ab700268ce",
   "metadata": {},
   "source": [
    "The algorithm for 2 qubits is exact so, the probability of the searched element will be 1"
   ]
  },
  {
   "cell_type": "code",
   "execution_count": 1,
   "id": "bda00e22-0387-4a95-9d7c-fcab32a5394a",
   "metadata": {},
   "outputs": [],
   "source": [
    "import cirq\n",
    "import numpy as np\n",
    "from qiskit import QuantumCircuit, execute, Aer\n",
    "import seaborn as sns\n",
    "import matplotlib.pyplot as plt\n",
    "plt.rcParams['figure.figsize'] = (15,10)"
   ]
  },
  {
   "cell_type": "markdown",
   "id": "594c26ff-931c-4605-8782-1a39cda00370",
   "metadata": {
    "tags": []
   },
   "source": [
    "<h2>CIRQ SCRIPT</h2>"
   ]
  },
  {
   "cell_type": "code",
   "execution_count": 2,
   "id": "b7fd719a-b79b-4bfb-833a-dce8c824379c",
   "metadata": {},
   "outputs": [],
   "source": [
    "def oracle(input_qubits, target_qubit, circuit, secret_element='01'):\n",
    "    \n",
    "    print(f\"Element to be searched: {secret_element}\")\n",
    "    \n",
    "    # Flip the qubits corresponding to the bits containing 0\n",
    "    for i, bit in enumerate(secret_element):\n",
    "        if int(bit) == 0:\n",
    "            circuit.append(cirq.X(input_qubits[i]))\n",
    "            \n",
    "    # Do a Conditional NOT using all input qubits as control qubits\n",
    "    circuit.append(cirq.TOFFOLI(*input_qubits, target_qubit))\n",
    "    \n",
    "    # Revert the input qubits to the state prior to Flipping\n",
    "    for i, bit in enumerate(secret_element):\n",
    "        if int(bit) == 0:\n",
    "            circuit.append(cirq.X(input_qubits[i]))\n",
    "            \n",
    "    return circuit\n",
    "\n",
    "def grovers_algorithm(num_qubits=2, copies=1000):\n",
    "    \n",
    "    # Define input and Target Qubit\n",
    "    input_qubits = [cirq.LineQubit(i) for i in range(num_qubits)]\n",
    "    target_qubit = cirq.LineQubit(num_qubits)\n",
    "    \n",
    "    # Define Quantum Circuit\n",
    "    circuit = cirq.Circuit()\n",
    "    \n",
    "    # Create equal Superposition State\n",
    "    circuit.append([cirq.H(input_qubits[i]) for i in range(num_qubits)])\n",
    "    \n",
    "    # Take target qubit to minus state |->\n",
    "    circuit.append([cirq.X(target_qubit),cirq.H(target_qubit)])\n",
    "    \n",
    "    # Pass the qubit through the Oracle\n",
    "    circuit = oracle(input_qubits, target_qubit, circuit)\n",
    "    \n",
    "    # Construct Grover operator.\n",
    "    circuit.append(cirq.H.on_each(*input_qubits))\n",
    "    circuit.append(cirq.X.on_each(*input_qubits))\n",
    "    circuit.append(cirq.H.on(input_qubits[1]))\n",
    "    circuit.append(cirq.CNOT(input_qubits[0],input_qubits[1]))\n",
    "    circuit.append(cirq.H.on(input_qubits[1]))\n",
    "    circuit.append(cirq.X.on_each(*input_qubits))\n",
    "    circuit.append(cirq.H.on_each(*input_qubits))\n",
    "    \n",
    "    # Measure the result.\n",
    "    circuit.append(cirq.measure(*input_qubits, key='Z'))\n",
    "    print(\"Grover's algorithm follows\")\n",
    "    print(circuit)\n",
    "    sim = cirq.Simulator()\n",
    "    result = sim.run(circuit, repetitions=copies)\n",
    "    out = result.histogram(key='Z')\n",
    "    out_result = {}\n",
    "    for k in out.keys():\n",
    "        new_key = \"{0:b}\".format(k)\n",
    "        if len(new_key) < num_qubits:\n",
    "            new_key = (num_qubits - len(new_key))*'0' + new_key\n",
    "        out_result[new_key] = out[k]\n",
    "    print(out_result)"
   ]
  },
  {
   "cell_type": "code",
   "execution_count": 3,
   "id": "f05f9b4b-0550-4dba-9455-0545f2641e25",
   "metadata": {},
   "outputs": [
    {
     "name": "stdout",
     "output_type": "stream",
     "text": [
      "Element to be searched: 01\n",
      "Grover's algorithm follows\n",
      "0: ───H───X───@───X───H───X───@───X───H───────M('Z')───\n",
      "              │               │               │\n",
      "1: ───H───────@───H───X───H───X───H───X───H───M────────\n",
      "              │\n",
      "2: ───X───H───X────────────────────────────────────────\n",
      "{'01': 1000}\n"
     ]
    }
   ],
   "source": [
    "grovers_algorithm()"
   ]
  },
  {
   "cell_type": "markdown",
   "id": "ce2fa2fb-0e7f-4112-a200-1c2c2e17c26e",
   "metadata": {},
   "source": [
    "<h2>QISKIT SCRIPT</h2>"
   ]
  },
  {
   "cell_type": "code",
   "execution_count": 4,
   "id": "0cd4632f-8eb6-44f8-aa9f-b3d8550758e7",
   "metadata": {},
   "outputs": [],
   "source": [
    "def oracle_q(qc, secret_element='01'):\n",
    "    \n",
    "    print(f\"Element to be searched: {secret_element}\")\n",
    "    \n",
    "    # Flip the qubits corresponding to the bits containing 0\n",
    "    for i, bit in enumerate(secret_element):\n",
    "        if int(bit) == 0:\n",
    "            qc.x(i)\n",
    "            \n",
    "    # Do a Conditional NOT using all input qubits as control qubits\n",
    "    qc.ccx(0, 1, 2)\n",
    "    \n",
    "    # Revert the input qubits to the state prior to Flipping\n",
    "    for i, bit in enumerate(secret_element):\n",
    "        if int(bit) == 0:\n",
    "            qc.x(i)\n",
    "            \n",
    "    return qc\n",
    "    \n",
    "def grovers_algorithm_q(num_qubits=2, copies=1000):\n",
    "    \n",
    "    # Define quantum circuit\n",
    "    qc = QuantumCircuit(3,2)\n",
    "    \n",
    "    # Create equal Superposition State\n",
    "    qc.h([0,1])\n",
    "    qc.x(2)\n",
    "    qc.h(2)\n",
    "    \n",
    "    # Pass the qubit through the Oracle\n",
    "    qc = oracle_q(qc)\n",
    "    \n",
    "    # Construct Grover operator.\n",
    "    qc.h([0,1])\n",
    "    qc.x([0,1])\n",
    "    qc.h(1)\n",
    "    qc.cx(0, 1)\n",
    "    qc.h(1)\n",
    "    qc.x([0,1])\n",
    "    qc.h([0,1])\n",
    "    \n",
    "    # Measure the result.\n",
    "    qc.measure([0,1], [0,0])\n",
    "    print(\"Grover's algorithm follows\")\n",
    "    print(qc)\n",
    "    simulator = Aer.get_backend('qasm_simulator')\n",
    "    job = execute(qc, simulator, shots=copies)\n",
    "    res = job.result().get_counts(qc)\n",
    "    print(res)"
   ]
  },
  {
   "cell_type": "code",
   "execution_count": 5,
   "id": "1814ba6c-809e-450e-a0df-99ae1dce19df",
   "metadata": {},
   "outputs": [
    {
     "name": "stdout",
     "output_type": "stream",
     "text": [
      "Element to be searched: 01\n",
      "Grover's algorithm follows\n",
      "     ┌───┐┌───┐     ┌───┐┌───┐┌───┐     ┌───┐┌───┐     ┌─┐   \n",
      "q_0: ┤ H ├┤ X ├──■──┤ X ├┤ H ├┤ X ├──■──┤ X ├┤ H ├─────┤M├───\n",
      "     ├───┤└───┘  │  ├───┤├───┤├───┤┌─┴─┐├───┤├───┤┌───┐└╥┘┌─┐\n",
      "q_1: ┤ H ├───────■──┤ H ├┤ X ├┤ H ├┤ X ├┤ H ├┤ X ├┤ H ├─╫─┤M├\n",
      "     ├───┤┌───┐┌─┴─┐└───┘└───┘└───┘└───┘└───┘└───┘└───┘ ║ └╥┘\n",
      "q_2: ┤ X ├┤ H ├┤ X ├────────────────────────────────────╫──╫─\n",
      "     └───┘└───┘└───┘                                    ║  ║ \n",
      "c: 2/═══════════════════════════════════════════════════╩══╩═\n",
      "                                                        0  0 \n",
      "{'01': 1000}\n"
     ]
    }
   ],
   "source": [
    "grovers_algorithm_q()"
   ]
  },
  {
   "cell_type": "markdown",
   "id": "b3cea02e-4b5c-45af-a5b9-2046fb9eea1d",
   "metadata": {},
   "source": [
    "As expected in both algorithm we found $|01\\rangle$ as the only result.\n",
    "<br>\n",
    "As you can see the algorithm implemented in qiskit is cleaner."
   ]
  }
 ],
 "metadata": {
  "kernelspec": {
   "display_name": "Python 3 (ipykernel)",
   "language": "python",
   "name": "python3"
  },
  "language_info": {
   "codemirror_mode": {
    "name": "ipython",
    "version": 3
   },
   "file_extension": ".py",
   "mimetype": "text/x-python",
   "name": "python",
   "nbconvert_exporter": "python",
   "pygments_lexer": "ipython3",
   "version": "3.9.12"
  }
 },
 "nbformat": 4,
 "nbformat_minor": 5
}
